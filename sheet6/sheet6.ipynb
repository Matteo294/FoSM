{
 "cells": [
  {
   "cell_type": "markdown",
   "metadata": {},
   "source": [
    "\\begin{equation}\n",
    "W(r)=k \\begin{cases}1-6\\left(\\frac{r}{h}\\right)^{2}+6\\left(\\frac{r}{h}\\right)^{3} & \\text { for } 0 \\leq \\frac{r}{h}<1 / 2 \\\\ 2\\left(1-\\frac{r}{h}\\right)^{3} & \\text { for } 1 / 2 \\leq \\frac{r}{h}<1 \\\\ 0 & \\text { otherwise }\\end{cases}\n",
    "\\end{equation}"
   ]
  },
  {
   "cell_type": "markdown",
   "metadata": {},
   "source": [
    "### (a)  \n",
    "\\begin{equation*}\n",
    "    \\int d \\bar r \\, W(r) = 2 \\pi \\int dr \\, rW(r)\n",
    "\\end{equation*}\n",
    "Let evaluate each part separately using the change of variable $r \\to x = r/h$ (omitting k) \n",
    "\\begin{gather*}\n",
    "    2 \\pi h^2 \\int_{0}^{1/2} x (1 - 6 x^2 + 6 x^3) \\, dx = 2\\pi h^2 \\left[ \\frac{x^2}{2} - \\frac{3}{2} x^2 + \\frac{6}{5} x^5 \\right]_0^{1/2} = 2\\pi h^2 \\left( \\frac{1}{8} - \\frac{3}{32} + \\frac{3}{80} \\right) = \\frac{11}{80} \\pi h^2\n",
    "\\end{gather*}\n",
    "\\begin{gather*}\n",
    "    2\\pi h^2 \\int_{1/2}^1 2x \\left( 1 - x \\right)^3 \\, dx = 4 \\pi h^2 \\int_{1/2}^1 x - x^4 - 3x^2 + 3x^3 \\, dx = 4\\pi h^2 \\left[ \\frac{x^2}{2} - \\frac{x^5}{5} - x^3 + \\frac{3}{4}x^4 \\right]_{1/2}^{1} = \\frac{\\pi}{2} h^2 \\left[ 3 - \\frac{31}{120} - 7 + \\frac{45}{8} \\right] = \\frac{3}{80} \\pi h^2\n",
    "\\end{gather*}\n",
    "Hence\n",
    "\\begin{equation*}\n",
    "    \\int d \\bar r \\, W(r) = k \\left(\\frac{11}{80} + \\frac{3}{80} \\right) \\pi h^2 = \\frac{7}{40} \\pi h^2 k \\qquad \\Longrightarrow \\qquad k = \\frac{40}{7\\pi h^2}\n",
    "\\end{equation*}"
   ]
  },
  {
   "cell_type": "markdown",
   "metadata": {},
   "source": [
    "### (b) and (c)"
   ]
  },
  {
   "cell_type": "code",
   "execution_count": 40,
   "metadata": {},
   "outputs": [
    {
     "name": "stdout",
     "output_type": "stream",
     "text": [
      "Red before: 25182443.0\n",
      "Green before: 12287845.0\n",
      "Blue before: 24795222.0\n"
     ]
    },
    {
     "name": "stderr",
     "output_type": "stream",
     "text": [
      "/tmp/ipykernel_15745/2088666872.py:59: DeprecationWarning: `np.complex` is a deprecated alias for the builtin `complex`. To silence this warning, use `complex` by itself. Doing this will not modify any behavior and is safe. If you specifically wanted the numpy scalar type, use `np.complex128` here.\n",
      "Deprecated in NumPy 1.20; for more details and guidance: https://numpy.org/devdocs/release/1.20.0-notes.html#deprecations\n",
      "  kernel_real = np.zeros((pixel,pixel),dtype=np.complex)\n"
     ]
    },
    {
     "name": "stdout",
     "output_type": "stream",
     "text": [
      "[[ True  True  True ...  True  True  True]\n",
      " [ True  True  True ...  True  True  True]\n",
      " [ True  True  True ...  True  True  True]\n",
      " ...\n",
      " [ True  True  True ...  True  True  True]\n",
      " [ True  True  True ...  True  True  True]\n",
      " [ True  True  True ...  True  True  True]]\n",
      "[[ True  True  True ...  True  True  True]\n",
      " [ True  True  True ...  True  True  True]\n",
      " [ True  True  True ...  True  True  True]\n",
      " ...\n",
      " [ True  True  True ...  True  True  True]\n",
      " [ True  True  True ...  True  True  True]\n",
      " [ True  True  True ...  True  True  True]]\n",
      "[[ True  True  True ...  True  True  True]\n",
      " [ True  True  True ...  True  True  True]\n",
      " [ True  True  True ...  True  True  True]\n",
      " ...\n",
      " [ True  True  True ...  True  True  True]\n",
      " [ True  True  True ...  True  True  True]\n",
      " [ True  True  True ...  True  True  True]]\n",
      "Red after: 25182443.0\n",
      "Green after: 12287845.0\n",
      "Blue after: 24795222.0\n",
      "Red relative variation: 0.00038556912996194235 %\n",
      "Green relative variation: 0.0003855691299473949 %\n",
      "Blue relative variation: 0.00038556912997012233 %\n"
     ]
    },
    {
     "name": "stderr",
     "output_type": "stream",
     "text": [
      "/tmp/ipykernel_15745/2088666872.py:77: DeprecationWarning: `np.complex` is a deprecated alias for the builtin `complex`. To silence this warning, use `complex` by itself. Doing this will not modify any behavior and is safe. If you specifically wanted the numpy scalar type, use `np.complex128` here.\n",
      "Deprecated in NumPy 1.20; for more details and guidance: https://numpy.org/devdocs/release/1.20.0-notes.html#deprecations\n",
      "  color_real = np.zeros((pixel,pixel),dtype=np.complex)\n"
     ]
    }
   ],
   "source": [
    "import numpy as np\n",
    "import matplotlib.pyplot as plt\n",
    "\n",
    "\n",
    "# Kernel function\n",
    "def kernel_func(r, h):\n",
    "        k = 40/(7*np.pi*h**2)\n",
    "        r = abs(r/h)\n",
    "        if r >= 1:\n",
    "            return 0\n",
    "        elif r < 1/2:\n",
    "            return k * (1 - 6*r**2 + 6*r**3)\n",
    "        else:\n",
    "            return 2*k * (1 - r)**3\n",
    "\n",
    "#Reads a square image in 8-bit/color PPM format from the given file. Note: No checks on valid format are done.\n",
    "def readImage(filename):\n",
    "    f = open(filename,\"rb\")\n",
    "    \n",
    "    f.readline()\n",
    "    s = f.readline()\n",
    "    f.readline()\n",
    "    (pixel, pixel) = [t(s) for t,s in zip((int,int),s.split())]\n",
    "    \n",
    "    data = np.fromfile(f,dtype=np.uint8,count = pixel*pixel*3)\n",
    "    img = data.reshape((pixel,pixel,3)).astype(np.double)\n",
    "    \n",
    "    f.close()\n",
    "    \n",
    "    return img, pixel\n",
    "    \n",
    "\n",
    "#Writes a square image in 8-bit/color PPM format.\n",
    "def writeImage(filename, image):\n",
    "    f = open(filename,\"wb\")\n",
    "    \n",
    "    pixel = image.shape[0]\n",
    "    ppm_header = f'P6 ' + str(pixel) + ' ' + str(pixel) + ' ' + str(255) +'\\n'\n",
    "    f.write(bytearray(ppm_header,'utf-8'))\n",
    "    \n",
    "    image = image.astype(np.uint8)\n",
    "    \n",
    "    image.tofile(f)\n",
    "    \n",
    "    f.close() \n",
    "    \n",
    "    \n",
    "    \n",
    "\n",
    "img, pixel = readImage(\"./FoSM_Tutorial_06/aq-original.ppm\")\n",
    "\n",
    "sums_before = [np.sum(img[:,:,i], (0,1)) for i in range(3)]\n",
    "print(\"Red before:\", sums_before[0])\n",
    "print(\"Green before:\", sums_before[1])\n",
    "print(\"Blue before:\", sums_before[2])\n",
    "\n",
    "\n",
    "#Now we set up our desired smoothing kernel. We'll use complex number for it even though it is real. \n",
    "kernel_real = np.zeros((pixel,pixel),dtype=np.complex)\n",
    "\n",
    "hsml = 10.\n",
    "\n",
    "#now set the values of the kernel \n",
    "for i in np.arange(pixel):\n",
    "    for j in np.arange(pixel):\n",
    "        #TODO: do something sensible here to set the real part of the kernel\n",
    "        #kernel_real[i, j] = ....\n",
    "        r = np.sqrt((i-pixel/2)**2 + (j-pixel/2)**2)\n",
    "        kernel_real[i,j] = kernel_func(r, hsml)\n",
    "\n",
    "\n",
    "#Let's calculate the Fourier transform of the kernel\n",
    "kernel_kspace = np.fft.fft2(kernel_real)\n",
    "\n",
    "\n",
    "#further space allocations for image transforms\n",
    "color_real = np.zeros((pixel,pixel),dtype=np.complex)\n",
    "\n",
    "\n",
    "#we now convolve each color channel with the kernel using FFTs\n",
    "for colindex in np.arange(3):\n",
    "    #copy input color into complex array\n",
    "    color_real[:,:].real = img[:,:,colindex]\n",
    "    \n",
    "    \n",
    "    #forward transform\n",
    "    color_kspace = np.fft.fft2(color_real)\n",
    "    \n",
    "    #multiply with kernel in Fourier space\n",
    "    #TODO: fill in code here\n",
    "    color_kspace = color_kspace * kernel_kspace\n",
    "    \n",
    "    #backward transform\n",
    "    color_real = np.fft.ifft2(color_kspace)\n",
    "\n",
    "    #copy real value of complex result back into color array\n",
    "    img[:,:,colindex] = color_real.real\n",
    "\n",
    "sums_after = [np.sum(img[:,:,i], (0,1)) for i in range(3)]\n",
    "\n",
    "print(\"Red after:\", sums_before[0])\n",
    "print(\"Green after:\", sums_before[1])\n",
    "print(\"Blue after:\", sums_before[2])\n",
    "\n",
    "print(\"Red relative variation:\", abs(sums_after[0].real-sums_before[0])/sums_before[0]*100, \"%\")\n",
    "print(\"Green relative variation:\", abs(sums_after[1].real-sums_before[1])/sums_before[1]*100, \"%\")\n",
    "print(\"Blue relative variation:\", abs(sums_after[2].real-sums_before[2])/sums_before[2]*100, \"%\")\n",
    "    \n",
    "writeImage(\"aq-smoothed.ppm\", img)\n"
   ]
  },
  {
   "cell_type": "code",
   "execution_count": null,
   "metadata": {},
   "outputs": [],
   "source": []
  }
 ],
 "metadata": {
  "interpreter": {
   "hash": "916dbcbb3f70747c44a77c7bcd40155683ae19c65e1c03b4aa3499c5328201f1"
  },
  "kernelspec": {
   "display_name": "Python 3.8.10 64-bit",
   "language": "python",
   "name": "python3"
  },
  "language_info": {
   "codemirror_mode": {
    "name": "ipython",
    "version": 3
   },
   "file_extension": ".py",
   "mimetype": "text/x-python",
   "name": "python",
   "nbconvert_exporter": "python",
   "pygments_lexer": "ipython3",
   "version": "3.8.10"
  },
  "orig_nbformat": 4
 },
 "nbformat": 4,
 "nbformat_minor": 2
}
