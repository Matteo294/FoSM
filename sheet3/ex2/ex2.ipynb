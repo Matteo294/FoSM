{
 "cells": [
  {
   "cell_type": "code",
   "execution_count": 1,
   "metadata": {},
   "outputs": [],
   "source": [
    "import numpy as np\n",
    "import matplotlib.pyplot as plt\n"
   ]
  },
  {
   "cell_type": "code",
   "execution_count": 2,
   "metadata": {},
   "outputs": [],
   "source": [
    "# leap frog N body algorithm\n",
    "\n",
    "def leapfrogN(M, X0, V0, Nt, dt, acc):\n",
    "    \"\"\"M: array with mass values; X0 & V0: N*3 arrays with initial\n",
    "    conditions of positions and velocities; Nt: number of time steps; dt: \n",
    "    time step size; acc: function that evaluates and gives back N*3 array\n",
    "    with accelerations for given positions and masses\"\"\"\n",
    "    N = np.shape(M)[0]\n",
    "    t = np.arange(0,dt*Nt,dt)\n",
    "    X = np.zeros((N,3,Nt))\n",
    "    V = np.zeros((N,3,Nt))\n",
    "    \n",
    "    X[:,:,0] = X0\n",
    "    V[:,:,0] = V0\n",
    "    \n",
    "    for i in range(Nt-1):\n",
    "        vhalf = V[:,:,i] + acc(M,X[:,:,i])*dt/2\n",
    "        X[:,:,i+1] = X[:,:,i] + vhalf*dt\n",
    "        V[:,:,i+1] = vhalf + acc(M,X[:,:,i+1])*dt/2\n",
    "    \n",
    "    return t, X, V\n",
    "    \n",
    "    "
   ]
  },
  {
   "cell_type": "code",
   "execution_count": 3,
   "metadata": {},
   "outputs": [],
   "source": [
    "# RHS of dv/dt aka acceleration\n",
    "def newton_acc(M,X):\n",
    "    \n",
    "    N = np.shape(M)[0]\n",
    "    A = np.zeros((N,3))\n",
    "    \n",
    "    for i in range(N):\n",
    "        for j in range(N):\n",
    "            if i==j:\n",
    "                continue\n",
    "            A[i,:] += M[j]*(X[j,:] - X[i,:])/(np.linalg.norm(X[j,:] - X[i,:]))**3\n",
    "    \n",
    "    return A"
   ]
  },
  {
   "cell_type": "code",
   "execution_count": 4,
   "metadata": {},
   "outputs": [
    {
     "name": "stdout",
     "output_type": "stream",
     "text": [
      "X0 = [[-0.5  0.   0. ]\n",
      " [ 0.5  0.   0. ]]\n",
      "V0 = [[ 0.  -0.5  0. ]\n",
      " [ 0.   0.5  0. ]]\n"
     ]
    },
    {
     "data": {
      "image/png": "[encoded data removed]",
      "text/plain": [
       "<Figure size 432x288 with 1 Axes>"
      ]
     },
     "metadata": {
      "needs_background": "light"
     },
     "output_type": "display_data"
    }
   ],
   "source": [
    "# 2.2: binary star problem\n",
    "N = 2\n",
    "M = np.array((1,1))\n",
    "X0 = np.zeros((N,3))\n",
    "X0[0,0] = -0.5\n",
    "X0[1,0] = 0.5\n",
    "V0 = np.zeros((N,3))\n",
    "V0[0,1]  = -0.5\n",
    "V0[1,1] = 0.5\n",
    "\n",
    "print(f'X0 = {X0}')\n",
    "print(f'V0 = {V0}')\n",
    "\n",
    "\n",
    "dt = 1e-4\n",
    "T = 10\n",
    "Nt = int(T/dt)\n",
    "\n",
    "t, X, V = leapfrogN(M, X0, V0, Nt, dt, newton_acc)\n",
    "\n",
    "fig = plt.figure()\n",
    "plt.plot(X[0,0,:],X[0,1,:], 'y.', X[1,0,:],X[1,1,:],'b.')\n",
    "plt.legend(['Star 1','Star 2'])\n",
    "plt.xlabel('x (AU)'); plt.ylabel('y (AU)')\n",
    "plt.show()"
   ]
  },
  {
   "cell_type": "code",
   "execution_count": 5,
   "metadata": {},
   "outputs": [
    {
     "name": "stdout",
     "output_type": "stream",
     "text": [
      "X0 = [[-0.5  0.   0. ]\n",
      " [ 0.5  0.   0. ]\n",
      " [ 1.   6.   2. ]]\n",
      "V0 = [[ 0.  -0.5  0. ]\n",
      " [ 0.   0.5  0. ]\n",
      " [ 0.   0.   0. ]]\n"
     ]
    },
    {
     "data": {
      "image/png": "[encoded data removed]",
      "text/plain": [
       "<Figure size 432x288 with 1 Axes>"
      ]
     },
     "metadata": {
      "needs_background": "light"
     },
     "output_type": "display_data"
    }
   ],
   "source": [
    "# 2.3: + third star:\n",
    "N = 3\n",
    "M = np.array((1,1,0.1))\n",
    "X0 = np.zeros((N,3))\n",
    "X0[0,0] = -0.5\n",
    "X0[1,0] = 0.5\n",
    "X0[2,:] = np.array((1,6,2))\n",
    "V0 = np.zeros((N,3))\n",
    "V0[0,1]  = -0.5\n",
    "V0[1,1] = 0.5\n",
    "\n",
    "print(f'X0 = {X0}')\n",
    "print(f'V0 = {V0}')\n",
    "\n",
    "dt = 1e-4\n",
    "T = 10\n",
    "Nt = int(T/dt)\n",
    "\n",
    "t, X, V = leapfrogN(M, X0, V0, Nt, dt, newton_acc)\n",
    "\n",
    "fig = plt.figure()\n",
    "plt.plot(X[0,0,:],X[0,1,:], 'y.', X[1,0,:],X[1,1,:],'b.', X[2,0,:],X[2,1,:],'m.')\n",
    "plt.legend(['Star 1','Star 2', 'Star 3'], loc='upper left')\n",
    "plt.xlabel('x (AU)'); plt.ylabel('y (AU)')\n",
    "plt.show()"
   ]
  },
  {
   "cell_type": "code",
   "execution_count": 10,
   "metadata": {},
   "outputs": [
    {
     "name": "stdout",
     "output_type": "stream",
     "text": [
      "X0 = [[-0.5  0.   0. ]\n",
      " [ 0.5  0.   0. ]\n",
      " [ 1.   6.   3. ]]\n",
      "V0 = [[ 0.  -0.5  0. ]\n",
      " [ 0.   0.5  0. ]\n",
      " [ 0.   0.   0. ]]\n"
     ]
    },
    {
     "data": {
      "image/png": "[encoded data removed]",
      "text/plain": [
       "<Figure size 432x288 with 1 Axes>"
      ]
     },
     "metadata": {
      "needs_background": "light"
     },
     "output_type": "display_data"
    }
   ],
   "source": [
    "# altered x3\n",
    "N = 3\n",
    "M = np.array((1,1,0.1))\n",
    "X0 = np.zeros((N,3))\n",
    "X0[0,0] = -0.5\n",
    "X0[1,0] = 0.5\n",
    "X0[2,:] = np.array((1,6,3))\n",
    "V0 = np.zeros((N,3))\n",
    "V0[0,1]  = -0.5\n",
    "V0[1,1] = 0.5\n",
    "\n",
    "print(f'X0 = {X0}')\n",
    "print(f'V0 = {V0}')\n",
    "\n",
    "dt = 1e-3\n",
    "T = 10\n",
    "Nt = int(T/dt)\n",
    "\n",
    "t, X, V = leapfrogN(M, X0, V0, Nt, dt, newton_acc)\n",
    "\n",
    "fig = plt.figure()\n",
    "plt.plot(X[0,0,:],X[0,1,:], 'y.', X[1,0,:],X[1,1,:],'b.', X[2,0,:],X[2,1,:],'m.')\n",
    "plt.legend(['Star 1','Star 2', 'Star 3'], loc='upper left')\n",
    "plt.xlabel('x (AU)'); plt.ylabel('y (AU)')\n",
    "plt.show()"
   ]
  }
 ],
 "metadata": {
  "kernelspec": {
   "display_name": "Python 3",
   "language": "python",
   "name": "python3"
  },
  "language_info": {
   "codemirror_mode": {
    "name": "ipython",
    "version": 3
   },
   "file_extension": ".py",
   "mimetype": "text/x-python",
   "name": "python",
   "nbconvert_exporter": "python",
   "pygments_lexer": "ipython3",
   "version": "3.8.10"
  }
 },
 "nbformat": 4,
 "nbformat_minor": 4
}
